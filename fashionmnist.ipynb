{
 "cells": [
  {
   "cell_type": "code",
   "execution_count": 1,
   "metadata": {},
   "outputs": [
    {
     "name": "stderr",
     "output_type": "stream",
     "text": [
      "Using TensorFlow backend.\n"
     ]
    }
   ],
   "source": [
    "import pandas as pd\n",
    "import numpy as np\n",
    "from keras.models import Sequential \n",
    "from keras.layers import Input,Convolution2D,MaxPooling2D,Dense,Flatten,Dropout\n",
    "from keras.utils import np_utils\n",
    "import tensorflow\n",
    "import sklearn"
   ]
  },
  {
   "cell_type": "code",
   "execution_count": 2,
   "metadata": {},
   "outputs": [
    {
     "name": "stdout",
     "output_type": "stream",
     "text": [
      "(10000, 784) (10000,)\n",
      "(8000, 784) (8000,) (2000, 784) (2000,)\n"
     ]
    }
   ],
   "source": [
    "x=pd.read_csv(\"./fashion-mnist_test.csv\")\n",
    "x=x.values\n",
    "X=x[:,1:]\n",
    "X=X/255.0\n",
    "y=x[:,0]\n",
    "print(X.shape,y.shape)\n",
    "X,y=sklearn.utils.shuffle(X,y)\n",
    "x_train=X[0:8000,:]\n",
    "y_train=y[0:8000]\n",
    "x_test=X[8000:10000,:]\n",
    "y_test=y[8000:10000]\n",
    "print(x_train.shape,y_train.shape,x_test.shape,y_test.shape)"
   ]
  },
  {
   "cell_type": "code",
   "execution_count": 3,
   "metadata": {},
   "outputs": [],
   "source": [
    "x_train=x_train.reshape((-1,28,28,1))\n",
    "x_test=x_test.reshape((-1,28,28,1))"
   ]
  },
  {
   "cell_type": "code",
   "execution_count": 4,
   "metadata": {},
   "outputs": [
    {
     "name": "stdout",
     "output_type": "stream",
     "text": [
      "(8000, 28, 28, 1) (8000, 10) (2000, 28, 28, 1) (2000, 10)\n"
     ]
    }
   ],
   "source": [
    "y_train=np_utils.to_categorical(y_train)\n",
    "y_test=np_utils.to_categorical(y_test)\n",
    "\n",
    "print(x_train.shape,y_train.shape,x_test.shape,y_test.shape)"
   ]
  },
  {
   "cell_type": "markdown",
   "metadata": {},
   "source": [
    "# CNN MODEL\n"
   ]
  },
  {
   "cell_type": "code",
   "execution_count": 5,
   "metadata": {
    "scrolled": true
   },
   "outputs": [
    {
     "name": "stdout",
     "output_type": "stream",
     "text": [
      "_________________________________________________________________\n",
      "Layer (type)                 Output Shape              Param #   \n",
      "=================================================================\n",
      "conv2d_1 (Conv2D)            (None, 26, 26, 32)        320       \n",
      "_________________________________________________________________\n",
      "conv2d_2 (Conv2D)            (None, 24, 24, 64)        18496     \n",
      "_________________________________________________________________\n",
      "dropout_1 (Dropout)          (None, 24, 24, 64)        0         \n",
      "_________________________________________________________________\n",
      "max_pooling2d_1 (MaxPooling2 (None, 12, 12, 64)        0         \n",
      "_________________________________________________________________\n",
      "conv2d_3 (Conv2D)            (None, 8, 8, 32)          51232     \n",
      "_________________________________________________________________\n",
      "dropout_2 (Dropout)          (None, 8, 8, 32)          0         \n",
      "_________________________________________________________________\n",
      "conv2d_4 (Conv2D)            (None, 4, 4, 8)           6408      \n",
      "_________________________________________________________________\n",
      "flatten_1 (Flatten)          (None, 128)               0         \n",
      "_________________________________________________________________\n",
      "dense_1 (Dense)              (None, 10)                1290      \n",
      "=================================================================\n",
      "Total params: 77,746\n",
      "Trainable params: 77,746\n",
      "Non-trainable params: 0\n",
      "_________________________________________________________________\n"
     ]
    }
   ],
   "source": [
    "model=Sequential()\n",
    "model.add(Convolution2D(32,(3,3),activation='relu',input_shape=(28,28,1)))\n",
    "model.add(Convolution2D(64,(3,3),activation='relu'))\n",
    "model.add(Dropout(0.25))\n",
    "model.add(MaxPooling2D(2,2))\n",
    "model.add(Convolution2D(32,(5,5),activation='relu'))\n",
    "model.add(Dropout(0.25))\n",
    "model.add(Convolution2D(8,(5,5),activation='relu'))\n",
    "model.add(Flatten())\n",
    "model.add(Dense(10,activation='softmax'))\n",
    "model.summary()"
   ]
  },
  {
   "cell_type": "code",
   "execution_count": 6,
   "metadata": {},
   "outputs": [],
   "source": [
    "model.compile(loss='categorical_crossentropy',optimizer=\"adam\",metrics=[\"accuracy\"])"
   ]
  },
  {
   "cell_type": "code",
   "execution_count": 7,
   "metadata": {},
   "outputs": [
    {
     "name": "stdout",
     "output_type": "stream",
     "text": [
      "Epoch 1/50\n",
      "8000/8000 [==============================] - 8s 1ms/step - loss: 1.1416 - acc: 0.5829\n",
      "Epoch 2/50\n",
      "8000/8000 [==============================] - 6s 801us/step - loss: 0.6087 - acc: 0.7685\n",
      "Epoch 3/50\n",
      "8000/8000 [==============================] - 6s 773us/step - loss: 0.5153 - acc: 0.8074\n",
      "Epoch 4/50\n",
      "8000/8000 [==============================] - 6s 775us/step - loss: 0.4577 - acc: 0.8327\n",
      "Epoch 5/50\n",
      "8000/8000 [==============================] - 6s 780us/step - loss: 0.4209 - acc: 0.8440\n",
      "Epoch 6/50\n",
      "8000/8000 [==============================] - 6s 774us/step - loss: 0.3835 - acc: 0.8601\n",
      "Epoch 7/50\n",
      "8000/8000 [==============================] - 6s 780us/step - loss: 0.3550 - acc: 0.8683\n",
      "Epoch 8/50\n",
      "8000/8000 [==============================] - 6s 786us/step - loss: 0.3330 - acc: 0.8787\n",
      "Epoch 9/50\n",
      "8000/8000 [==============================] - 6s 782us/step - loss: 0.3174 - acc: 0.8838\n",
      "Epoch 10/50\n",
      "8000/8000 [==============================] - 6s 802us/step - loss: 0.3012 - acc: 0.8892\n",
      "Epoch 11/50\n",
      "8000/8000 [==============================] - 6s 775us/step - loss: 0.2827 - acc: 0.8954\n",
      "Epoch 12/50\n",
      "8000/8000 [==============================] - 6s 791us/step - loss: 0.2639 - acc: 0.9008\n",
      "Epoch 13/50\n",
      "8000/8000 [==============================] - 6s 806us/step - loss: 0.2589 - acc: 0.9016\n",
      "Epoch 14/50\n",
      "8000/8000 [==============================] - 6s 803us/step - loss: 0.2414 - acc: 0.9130\n",
      "Epoch 15/50\n",
      "8000/8000 [==============================] - 6s 774us/step - loss: 0.2284 - acc: 0.9177\n",
      "Epoch 16/50\n",
      "8000/8000 [==============================] - 6s 745us/step - loss: 0.2248 - acc: 0.9177\n",
      "Epoch 17/50\n",
      "8000/8000 [==============================] - 6s 795us/step - loss: 0.2112 - acc: 0.9210\n",
      "Epoch 18/50\n",
      "8000/8000 [==============================] - 6s 794us/step - loss: 0.2069 - acc: 0.9249\n",
      "Epoch 19/50\n",
      "8000/8000 [==============================] - 6s 776us/step - loss: 0.1960 - acc: 0.9265\n",
      "Epoch 20/50\n",
      "8000/8000 [==============================] - 6s 760us/step - loss: 0.1868 - acc: 0.9325\n",
      "Epoch 21/50\n",
      "8000/8000 [==============================] - 6s 791us/step - loss: 0.1816 - acc: 0.9368\n",
      "Epoch 22/50\n",
      "8000/8000 [==============================] - 6s 747us/step - loss: 0.1626 - acc: 0.9396\n",
      "Epoch 23/50\n",
      "8000/8000 [==============================] - 6s 749us/step - loss: 0.1626 - acc: 0.9399\n",
      "Epoch 24/50\n",
      "8000/8000 [==============================] - 7s 818us/step - loss: 0.1585 - acc: 0.9434\n",
      "Epoch 25/50\n",
      "8000/8000 [==============================] - 6s 784us/step - loss: 0.1496 - acc: 0.9437\n",
      "Epoch 26/50\n",
      "8000/8000 [==============================] - 6s 805us/step - loss: 0.1415 - acc: 0.9486\n",
      "Epoch 27/50\n",
      "8000/8000 [==============================] - 7s 841us/step - loss: 0.1422 - acc: 0.9481\n",
      "Epoch 28/50\n",
      "8000/8000 [==============================] - 7s 822us/step - loss: 0.1304 - acc: 0.9524\n",
      "Epoch 29/50\n",
      "8000/8000 [==============================] - 7s 813us/step - loss: 0.1277 - acc: 0.9511\n",
      "Epoch 30/50\n",
      "8000/8000 [==============================] - 6s 811us/step - loss: 0.1305 - acc: 0.9527\n",
      "Epoch 31/50\n",
      "8000/8000 [==============================] - 6s 811us/step - loss: 0.1284 - acc: 0.9529\n",
      "Epoch 32/50\n",
      "8000/8000 [==============================] - 6s 811us/step - loss: 0.1097 - acc: 0.9603\n",
      "Epoch 33/50\n",
      "8000/8000 [==============================] - 6s 812us/step - loss: 0.1156 - acc: 0.9579\n",
      "Epoch 34/50\n",
      "8000/8000 [==============================] - 6s 812us/step - loss: 0.1017 - acc: 0.9625\n",
      "Epoch 35/50\n",
      "8000/8000 [==============================] - 7s 813us/step - loss: 0.0940 - acc: 0.9630\n",
      "Epoch 36/50\n",
      "8000/8000 [==============================] - 6s 812us/step - loss: 0.0931 - acc: 0.9621\n",
      "Epoch 37/50\n",
      "8000/8000 [==============================] - 6s 810us/step - loss: 0.0954 - acc: 0.9654\n",
      "Epoch 38/50\n",
      "8000/8000 [==============================] - 6s 811us/step - loss: 0.0893 - acc: 0.9686\n",
      "Epoch 39/50\n",
      "8000/8000 [==============================] - 7s 814us/step - loss: 0.0778 - acc: 0.9716\n",
      "Epoch 40/50\n",
      "8000/8000 [==============================] - 6s 812us/step - loss: 0.0826 - acc: 0.9691\n",
      "Epoch 41/50\n",
      "8000/8000 [==============================] - 7s 815us/step - loss: 0.0877 - acc: 0.9684\n",
      "Epoch 42/50\n",
      "8000/8000 [==============================] - 7s 815us/step - loss: 0.0753 - acc: 0.9728\n",
      "Epoch 43/50\n",
      "8000/8000 [==============================] - 6s 812us/step - loss: 0.0698 - acc: 0.9755\n",
      "Epoch 44/50\n",
      "8000/8000 [==============================] - 6s 812us/step - loss: 0.0758 - acc: 0.9716\n",
      "Epoch 45/50\n",
      "8000/8000 [==============================] - 6s 810us/step - loss: 0.0754 - acc: 0.9720\n",
      "Epoch 46/50\n",
      "8000/8000 [==============================] - 7s 813us/step - loss: 0.0674 - acc: 0.9766\n",
      "Epoch 47/50\n",
      "8000/8000 [==============================] - 7s 822us/step - loss: 0.0602 - acc: 0.9794\n",
      "Epoch 48/50\n",
      "8000/8000 [==============================] - 6s 798us/step - loss: 0.0608 - acc: 0.9770\n",
      "Epoch 49/50\n",
      "8000/8000 [==============================] - 6s 802us/step - loss: 0.0695 - acc: 0.9741\n",
      "Epoch 50/50\n",
      "8000/8000 [==============================] - 6s 800us/step - loss: 0.0641 - acc: 0.9749\n"
     ]
    },
    {
     "data": {
      "text/plain": [
       "<keras.callbacks.History at 0x7f387b9af400>"
      ]
     },
     "execution_count": 7,
     "metadata": {},
     "output_type": "execute_result"
    }
   ],
   "source": [
    "model.fit(x_train,y_train,shuffle=True,epochs=50,batch_size=64)"
   ]
  },
  {
   "cell_type": "code",
   "execution_count": 8,
   "metadata": {},
   "outputs": [],
   "source": [
    "y_predicted=model.predict_classes(x_test)"
   ]
  },
  {
   "cell_type": "code",
   "execution_count": 9,
   "metadata": {},
   "outputs": [
    {
     "name": "stdout",
     "output_type": "stream",
     "text": [
      "3\n",
      "[0. 0. 0. 1. 0. 0. 0. 0. 0. 0.]\n"
     ]
    }
   ],
   "source": [
    "print(y_predicted[0])\n",
    "print(y_test[0])"
   ]
  },
  {
   "cell_type": "code",
   "execution_count": 10,
   "metadata": {},
   "outputs": [],
   "source": [
    "y_predicted=np_utils.to_categorical(y_predicted)"
   ]
  },
  {
   "cell_type": "code",
   "execution_count": 11,
   "metadata": {},
   "outputs": [
    {
     "name": "stdout",
     "output_type": "stream",
     "text": [
      "[0. 0. 0. 1. 0. 0. 0. 0. 0. 0.]\n"
     ]
    }
   ],
   "source": [
    "print(y_predicted[0])"
   ]
  },
  {
   "cell_type": "code",
   "execution_count": 12,
   "metadata": {},
   "outputs": [
    {
     "name": "stdout",
     "output_type": "stream",
     "text": [
      "(2000, 10)\n"
     ]
    }
   ],
   "source": [
    "print(y_test.shape)"
   ]
  },
  {
   "cell_type": "code",
   "execution_count": 13,
   "metadata": {},
   "outputs": [
    {
     "name": "stdout",
     "output_type": "stream",
     "text": [
      "(2000, 10)\n"
     ]
    }
   ],
   "source": [
    "print(y_predicted.shape)"
   ]
  },
  {
   "cell_type": "code",
   "execution_count": 14,
   "metadata": {},
   "outputs": [
    {
     "name": "stdout",
     "output_type": "stream",
     "text": [
      "0.905\n"
     ]
    }
   ],
   "source": [
    "print(np.sum(np.argmax(y_test,axis=1)==np.argmax(y_predicted,axis=1))/len(y_test))"
   ]
  }
 ],
 "metadata": {
  "kernelspec": {
   "display_name": "Python 3",
   "language": "python",
   "name": "python3"
  },
  "language_info": {
   "codemirror_mode": {
    "name": "ipython",
    "version": 3
   },
   "file_extension": ".py",
   "mimetype": "text/x-python",
   "name": "python",
   "nbconvert_exporter": "python",
   "pygments_lexer": "ipython3",
   "version": "3.5.2"
  }
 },
 "nbformat": 4,
 "nbformat_minor": 2
}
