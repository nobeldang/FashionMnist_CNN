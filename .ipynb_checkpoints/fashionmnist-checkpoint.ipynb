{
 "cells": [
  {
   "cell_type": "code",
   "execution_count": 1,
   "metadata": {},
   "outputs": [
    {
     "name": "stderr",
     "output_type": "stream",
     "text": [
      "Using TensorFlow backend.\n"
     ]
    }
   ],
   "source": [
    "import pandas as pd\n",
    "import numpy as np\n",
    "from keras.models import Sequential \n",
    "from keras.layers import Input,Convolution2D,MaxPooling2D,Dense,Flatten,Dropout\n",
    "from keras.utils import np_utils\n",
    "import tensorflow\n",
    "import os"
   ]
  },
  {
   "cell_type": "code",
   "execution_count": 2,
   "metadata": {},
   "outputs": [
    {
     "name": "stdout",
     "output_type": "stream",
     "text": [
      "(10000, 784) (10000,)\n"
     ]
    }
   ],
   "source": [
    "x=pd.read_csv(\"./fashion-mnist_test.csv\")\n",
    "x=x.values\n",
    "X=x[:,1:]\n",
    "X=X/255.0\n",
    "y=x[:,0]\n",
    "print(X.shape,y.shape)"
   ]
  },
  {
   "cell_type": "code",
   "execution_count": 3,
   "metadata": {},
   "outputs": [],
   "source": [
    "X=X.reshape((-1,28,28,1))"
   ]
  },
  {
   "cell_type": "code",
   "execution_count": 4,
   "metadata": {},
   "outputs": [
    {
     "name": "stdout",
     "output_type": "stream",
     "text": [
      "(10000, 28, 28, 1) (10000, 10)\n"
     ]
    }
   ],
   "source": [
    "y=np_utils.to_categorical(y)\n",
    "print(X.shape,y.shape)"
   ]
  },
  {
   "cell_type": "markdown",
   "metadata": {},
   "source": [
    "# CNN MODEL\n"
   ]
  },
  {
   "cell_type": "code",
   "execution_count": 5,
   "metadata": {
    "scrolled": true
   },
   "outputs": [
    {
     "name": "stdout",
     "output_type": "stream",
     "text": [
      "_________________________________________________________________\n",
      "Layer (type)                 Output Shape              Param #   \n",
      "=================================================================\n",
      "conv2d_1 (Conv2D)            (None, 26, 26, 32)        320       \n",
      "_________________________________________________________________\n",
      "conv2d_2 (Conv2D)            (None, 24, 24, 64)        18496     \n",
      "_________________________________________________________________\n",
      "dropout_1 (Dropout)          (None, 24, 24, 64)        0         \n",
      "_________________________________________________________________\n",
      "max_pooling2d_1 (MaxPooling2 (None, 12, 12, 64)        0         \n",
      "_________________________________________________________________\n",
      "conv2d_3 (Conv2D)            (None, 8, 8, 32)          51232     \n",
      "_________________________________________________________________\n",
      "dropout_2 (Dropout)          (None, 8, 8, 32)          0         \n",
      "_________________________________________________________________\n",
      "conv2d_4 (Conv2D)            (None, 4, 4, 8)           6408      \n",
      "_________________________________________________________________\n",
      "flatten_1 (Flatten)          (None, 128)               0         \n",
      "_________________________________________________________________\n",
      "dense_1 (Dense)              (None, 10)                1290      \n",
      "=================================================================\n",
      "Total params: 77,746\n",
      "Trainable params: 77,746\n",
      "Non-trainable params: 0\n",
      "_________________________________________________________________\n"
     ]
    }
   ],
   "source": [
    "model=Sequential()\n",
    "model.add(Convolution2D(32,(3,3),activation='relu',input_shape=(28,28,1)))\n",
    "model.add(Convolution2D(64,(3,3),activation='relu'))\n",
    "model.add(Dropout(0.25))\n",
    "model.add(MaxPooling2D(2,2))\n",
    "model.add(Convolution2D(32,(5,5),activation='relu'))\n",
    "model.add(Dropout(0.25))\n",
    "model.add(Convolution2D(8,(5,5),activation='relu'))\n",
    "model.add(Flatten())\n",
    "model.add(Dense(10,activation='softmax'))\n",
    "model.summary()"
   ]
  },
  {
   "cell_type": "code",
   "execution_count": 6,
   "metadata": {},
   "outputs": [],
   "source": [
    "model.compile(loss='categorical_crossentropy',optimizer=\"adam\",metrics=[\"accuracy\"])"
   ]
  },
  {
   "cell_type": "code",
   "execution_count": 7,
   "metadata": {},
   "outputs": [
    {
     "name": "stdout",
     "output_type": "stream",
     "text": [
      "Train on 8000 samples, validate on 2000 samples\n",
      "Epoch 1/20\n",
      "8000/8000 [==============================] - 9s 1ms/step - loss: 1.1281 - acc: 0.5970 - val_loss: 0.7163 - val_acc: 0.7345\n",
      "Epoch 2/20\n",
      "8000/8000 [==============================] - 7s 857us/step - loss: 0.6246 - acc: 0.7638 - val_loss: 0.5569 - val_acc: 0.8025\n",
      "Epoch 3/20\n",
      "8000/8000 [==============================] - 7s 834us/step - loss: 0.5335 - acc: 0.8089 - val_loss: 0.4904 - val_acc: 0.8230\n",
      "Epoch 4/20\n",
      "8000/8000 [==============================] - 7s 850us/step - loss: 0.4817 - acc: 0.8235 - val_loss: 0.4624 - val_acc: 0.8440\n",
      "Epoch 5/20\n",
      "8000/8000 [==============================] - 7s 855us/step - loss: 0.4255 - acc: 0.8436 - val_loss: 0.4175 - val_acc: 0.8660\n",
      "Epoch 6/20\n",
      "8000/8000 [==============================] - 7s 856us/step - loss: 0.3952 - acc: 0.8564 - val_loss: 0.4180 - val_acc: 0.8565\n",
      "Epoch 7/20\n",
      "8000/8000 [==============================] - 7s 872us/step - loss: 0.3606 - acc: 0.8715 - val_loss: 0.3731 - val_acc: 0.8720\n",
      "Epoch 8/20\n",
      "8000/8000 [==============================] - 7s 867us/step - loss: 0.3412 - acc: 0.8749 - val_loss: 0.3699 - val_acc: 0.8720\n",
      "Epoch 9/20\n",
      "8000/8000 [==============================] - 7s 863us/step - loss: 0.3200 - acc: 0.8845 - val_loss: 0.3572 - val_acc: 0.8730\n",
      "Epoch 10/20\n",
      "8000/8000 [==============================] - 7s 876us/step - loss: 0.3030 - acc: 0.8879 - val_loss: 0.3804 - val_acc: 0.8645\n",
      "Epoch 11/20\n",
      "8000/8000 [==============================] - 7s 881us/step - loss: 0.2863 - acc: 0.8955 - val_loss: 0.3299 - val_acc: 0.8815\n",
      "Epoch 12/20\n",
      "8000/8000 [==============================] - 7s 869us/step - loss: 0.2780 - acc: 0.8945 - val_loss: 0.3481 - val_acc: 0.8790\n",
      "Epoch 13/20\n",
      "8000/8000 [==============================] - 7s 869us/step - loss: 0.2558 - acc: 0.9056 - val_loss: 0.3361 - val_acc: 0.8900\n",
      "Epoch 14/20\n",
      "8000/8000 [==============================] - 7s 877us/step - loss: 0.2511 - acc: 0.9093 - val_loss: 0.3460 - val_acc: 0.8810\n",
      "Epoch 15/20\n",
      "8000/8000 [==============================] - 7s 869us/step - loss: 0.2370 - acc: 0.9100 - val_loss: 0.3104 - val_acc: 0.8875\n",
      "Epoch 16/20\n",
      "8000/8000 [==============================] - 7s 842us/step - loss: 0.2206 - acc: 0.9173 - val_loss: 0.3228 - val_acc: 0.8880\n",
      "Epoch 17/20\n",
      "8000/8000 [==============================] - 7s 888us/step - loss: 0.2230 - acc: 0.9205 - val_loss: 0.3170 - val_acc: 0.8890\n",
      "Epoch 18/20\n",
      "8000/8000 [==============================] - 7s 913us/step - loss: 0.2058 - acc: 0.9218 - val_loss: 0.3434 - val_acc: 0.8805\n",
      "Epoch 19/20\n",
      "8000/8000 [==============================] - 7s 875us/step - loss: 0.1981 - acc: 0.9263 - val_loss: 0.3084 - val_acc: 0.8870\n",
      "Epoch 20/20\n",
      "8000/8000 [==============================] - 7s 872us/step - loss: 0.1910 - acc: 0.9294 - val_loss: 0.3274 - val_acc: 0.8815\n"
     ]
    },
    {
     "data": {
      "text/plain": [
       "<keras.callbacks.History at 0x7f6a655dc3c8>"
      ]
     },
     "execution_count": 7,
     "metadata": {},
     "output_type": "execute_result"
    }
   ],
   "source": [
    "model.fit(X,y,shuffle=True,epochs=20,batch_size=64,validation_split=0.20)"
   ]
  },
  {
   "cell_type": "code",
   "execution_count": 8,
   "metadata": {},
   "outputs": [],
   "source": [
    "idx = np.random.choice(np.arange(len(X)), 200, replace=False)\n"
   ]
  },
  {
   "cell_type": "code",
   "execution_count": 9,
   "metadata": {},
   "outputs": [],
   "source": [
    "x_test=X[idx]\n",
    "y_test=y[idx]"
   ]
  },
  {
   "cell_type": "code",
   "execution_count": 10,
   "metadata": {},
   "outputs": [],
   "source": [
    "y_predicted=model.predict_classes(x_test)"
   ]
  },
  {
   "cell_type": "code",
   "execution_count": 12,
   "metadata": {},
   "outputs": [
    {
     "name": "stdout",
     "output_type": "stream",
     "text": [
      "9\n",
      "[0. 0. 0. 0. 0. 0. 0. 0. 0. 1.]\n"
     ]
    }
   ],
   "source": [
    "print(y_predicted[0])\n",
    "print(y_test[0])"
   ]
  },
  {
   "cell_type": "code",
   "execution_count": 13,
   "metadata": {},
   "outputs": [],
   "source": [
    "y_predicted=np_utils.to_categorical(y_predicted)"
   ]
  },
  {
   "cell_type": "code",
   "execution_count": 14,
   "metadata": {},
   "outputs": [
    {
     "name": "stdout",
     "output_type": "stream",
     "text": [
      "[0. 0. 0. 0. 0. 0. 0. 0. 0. 1.]\n"
     ]
    }
   ],
   "source": [
    "print(y_predicted[0])"
   ]
  },
  {
   "cell_type": "code",
   "execution_count": 16,
   "metadata": {},
   "outputs": [
    {
     "name": "stdout",
     "output_type": "stream",
     "text": [
      "(200, 10)\n"
     ]
    }
   ],
   "source": [
    "print(y_test.shape)"
   ]
  },
  {
   "cell_type": "code",
   "execution_count": 17,
   "metadata": {},
   "outputs": [
    {
     "name": "stdout",
     "output_type": "stream",
     "text": [
      "(200, 10)\n"
     ]
    }
   ],
   "source": [
    "print(y_predicted.shape)"
   ]
  },
  {
   "cell_type": "code",
   "execution_count": 19,
   "metadata": {},
   "outputs": [
    {
     "name": "stdout",
     "output_type": "stream",
     "text": [
      "0.96\n"
     ]
    }
   ],
   "source": [
    "print(np.sum(np.argmax(y_test,axis=1)==np.argmax(y_predicted,axis=1))/len(y_test))"
   ]
  },
  {
   "cell_type": "code",
   "execution_count": null,
   "metadata": {},
   "outputs": [],
   "source": []
  },
  {
   "cell_type": "code",
   "execution_count": null,
   "metadata": {},
   "outputs": [],
   "source": []
  }
 ],
 "metadata": {
  "kernelspec": {
   "display_name": "Python 3",
   "language": "python",
   "name": "python3"
  },
  "language_info": {
   "codemirror_mode": {
    "name": "ipython",
    "version": 3
   },
   "file_extension": ".py",
   "mimetype": "text/x-python",
   "name": "python",
   "nbconvert_exporter": "python",
   "pygments_lexer": "ipython3",
   "version": "3.5.2"
  }
 },
 "nbformat": 4,
 "nbformat_minor": 2
}
